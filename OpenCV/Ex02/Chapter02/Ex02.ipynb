{
 "cells": [
  {
   "cell_type": "markdown",
   "metadata": {},
   "source": [
    "#### Convert Color \n",
    "- 본래의 색상 공간에서 다른 색상 공간으로 변환할 때 사용한다. \n",
    "- 데이터 타입을 같게 유지하고 채널을 변환한다. \n",
    "- 8bit, 16bit, 32bit 의 정밀로를 갖는 배열을 사용가능하다. \n",
    "- 출력 이미지는 입력 이미지의 이미지 크기와 정밀도가 동일한 배열이 된다. \n"
   ]
  },
  {
   "cell_type": "code",
   "execution_count": 2,
   "metadata": {},
   "outputs": [],
   "source": [
    "import cv2 \n",
    "import numpy as np "
   ]
  },
  {
   "cell_type": "code",
   "execution_count": 3,
   "metadata": {},
   "outputs": [],
   "source": [
    "src = cv2.imread(\"..\\\\..\\\\Image\\\\cat.bmp\", cv2.IMREAD_COLOR)\n",
    "dst = cv2.cvtColor(src, cv2.COLOR_HSV2BGR)"
   ]
  },
  {
   "cell_type": "code",
   "execution_count": 4,
   "metadata": {},
   "outputs": [],
   "source": [
    "cv2.imshow(\"src\", src)\n",
    "cv2.imshow(\"dst\", dst)\n",
    "cv2.waitKey()\n",
    "cv2.destroyAllWindows()"
   ]
  },
  {
   "cell_type": "markdown",
   "metadata": {},
   "source": [
    "#### Reverse Image \n",
    "- 역상은 영상, 이미지를 반전된 색상으로 변환하기 위하여 사용된다. \n",
    "- Pixel 단위 마다 bitwise operation 을 적용하는데 Not 연산이 적용한다. NOt 연산은 각 자릿수 값을 반대로 바꾸는 연산 \n",
    "- 10진수 -> 2진수 -> NOT 연산 \n",
    "- 이미지는 RGB 또는 Red Green Blue 값을 사용하여 표현된다. \n",
    "- RED (255, 0, 0) \n",
    "- White (255, 255, 255), \n",
    "- Black(0, 0, 0) "
   ]
  },
  {
   "cell_type": "code",
   "execution_count": 3,
   "metadata": {},
   "outputs": [],
   "source": [
    "src = cv2.imread(\"..\\\\..\\\\Image\\\\field.bmp\", cv2.IMREAD_COLOR)\n",
    "dst = cv2.bitwise_not(src)\n",
    "dst1 = np.invert(src)\n",
    "dst2 = 255 - src\n"
   ]
  },
  {
   "cell_type": "code",
   "execution_count": 4,
   "metadata": {},
   "outputs": [],
   "source": [
    "cv2.imshow(\"src\", src)\n",
    "cv2.imshow(\"dst\", dst)\n",
    "cv2.imshow(\"dst1\", dst1)\n",
    "cv2.imshow(\"dst2\", dst2)\n",
    "\n",
    "cv2.waitKey()\n",
    "cv2.destroyAllWindows()"
   ]
  },
  {
   "cell_type": "code",
   "execution_count": null,
   "metadata": {},
   "outputs": [],
   "source": []
  }
 ],
 "metadata": {
  "interpreter": {
   "hash": "b3ba2566441a7c06988d0923437866b63cedc61552a5af99d1f4fb67d367b25f"
  },
  "kernelspec": {
   "display_name": "Python 3.9.7 ('base')",
   "language": "python",
   "name": "python3"
  },
  "language_info": {
   "codemirror_mode": {
    "name": "ipython",
    "version": 3
   },
   "file_extension": ".py",
   "mimetype": "text/x-python",
   "name": "python",
   "nbconvert_exporter": "python",
   "pygments_lexer": "ipython3",
   "version": "3.8.10"
  },
  "orig_nbformat": 4
 },
 "nbformat": 4,
 "nbformat_minor": 2
}
