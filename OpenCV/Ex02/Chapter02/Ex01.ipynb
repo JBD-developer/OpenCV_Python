{
 "cells": [
  {
   "cell_type": "markdown",
   "metadata": {},
   "source": [
    "#### Flip - Reflection "
   ]
  },
  {
   "cell_type": "code",
   "execution_count": 1,
   "metadata": {},
   "outputs": [],
   "source": [
    "import cv2"
   ]
  },
  {
   "cell_type": "code",
   "execution_count": 6,
   "metadata": {},
   "outputs": [],
   "source": [
    "src = cv2.imread(\"..\\\\..\\\\Image\\\\cat.bmp\",cv2.IMREAD_COLOR)\n",
    "dst = cv2.flip(src, -1)\n",
    "### dst = cv2.flip(src, flipCode)\n",
    "# flipCode < 0 up-down left-right symmetry\n",
    "# flipCode = 0 up-down symmetry\n",
    "# flipCode > 0 left-right symmetry\n",
    "cv2.imshow(\"src\", src)\n",
    "cv2.imshow(\"dst\", dst)\n",
    "cv2.waitKey()\n",
    "cv2.destroyAllWindows()"
   ]
  },
  {
   "cell_type": "markdown",
   "metadata": {},
   "source": [
    "#### Rotate \n",
    "- 회전은 선형변환 중 하나에 포함되며, 회전변환행렬 (Rotation matrix)를 통해 변환이 진행된다. \n",
    "- 회전변환행렬은 임의의 점을 중심으로 물체를 회전시키며, 일부는 Reflection matrix와 같은 값을 지닐 수 있다. \n",
    "- 2차원의 유클리드 공간에서의 회전은 크게 두 가지 회전 행렬을 갖는다. \n",
    "    - 좌표값을 회전시키는 회전행렬\n",
    "    - 좌표축을 회전시키는 회전행렬 \n",
    "- OpenCV의 회전 함수는 좌표축의 회전 이동 행렬과 동일한 형태이며, 비율 조정 및 중심점 기준을 변겨하여 회전 가능 \n"
   ]
  },
  {
   "cell_type": "code",
   "execution_count": 17,
   "metadata": {},
   "outputs": [
    {
     "name": "stdout",
     "output_type": "stream",
     "text": [
      "width 640\n",
      "height 480\n",
      "channel 3\n",
      "matrix  shape: (2, 3)\n",
      "dst shape: (2, 3)\n"
     ]
    }
   ],
   "source": [
    "src = cv2.imread(\"..\\\\..\\\\Image\\\\cat.bmp\", cv2.IMREAD_COLOR)\n",
    "\n",
    "height, width, channel = src.shape\n",
    "\n",
    "print(f\"width {width}\")\n",
    "print(f\"height {height}\")\n",
    "print(f\"channel {channel}\")\n",
    "\n",
    "# matrix = cv2.getRotationMatrix2D((width/4, height/4), 180, 1)\n",
    "matrix = cv2.getRotationMatrix2D((src.shape[1]/2, src.shape[0]/2), 180, 1)\n",
    "\n",
    "print(f\"matrix  shape: {matrix.shape}\")\n",
    "dst = cv2.warpAffine(src, matrix, (width, height))\n",
    "print(f\"dst shape: {matrix.shape}\")\n",
    "\n",
    "\n",
    "cv2.imshow(\"src\", src)\n",
    "cv2.imshow(\"dst\", dst)\n",
    "cv2.waitKey()\n",
    "cv2.destroyAllWindows()"
   ]
  },
  {
   "cell_type": "markdown",
   "metadata": {},
   "source": [
    "#### Image pyramid \n",
    "- 원본이미지에서 크기를 확대하는 것 up-sampling\n",
    "- 원본이미지에서 크기를 축소하는 것 down-sampling  \n",
    "- Gaussian Pyramid \n",
    "- Laplacian Pyramid "
   ]
  },
  {
   "cell_type": "code",
   "execution_count": 29,
   "metadata": {},
   "outputs": [],
   "source": [
    "src = cv2.imread(\"..\\\\..\\\\Image\\\\cat.bmp\", cv2.IMREAD_COLOR)\n",
    "height, width, channel = src.shape\n",
    "\n",
    "dst = cv2.pyrUp(src, dstsize = (width * 2, height *2), borderType = cv2.BORDER_DEFAULT)\n",
    "dst2 = cv2.pyrDown(src, borderType=cv2.BORDER_REPLICATE)\n",
    "\n",
    "cv2.imshow(\"src\", src)\n",
    "cv2.imshow(\"dst\", dst)\n",
    "cv2.imshow(\"dst2\", dst2)\n",
    "\n",
    "cv2.waitKey()\n",
    "cv2.destroyAllWindows()\n"
   ]
  },
  {
   "cell_type": "markdown",
   "metadata": {},
   "source": [
    "#### Resize \n",
    "\n",
    "- 영상 이미지의 전체적인 크기를 확대 또는 축소하는 변환이다. \n",
    "    - 영상 인식 시스템은 정해진 크기의 영상 만을 입력받기 때문에 영상을 해당 크기에 맞게 변경하여 입력으로 전달 \n",
    "    - 복잡한 알고리즘을 수행하기 앞에 연산 시간을 단축하기 위하여 입력 영상의 크기를 줄여서 사용하는 경우도 있다 \n",
    "     \n",
    "- 이미지를 확대하는 경우에는 픽셀에 대한 보간법 \n",
    "    - INTER_NEAREST  : 최근방 이웃 보간법 \n",
    "    - INTER_LINEAR_EXACT : 비트 쌍 선형 보간법 \n",
    "    - INTER_LINEAR   : 양선형 보간법 \n",
    "    - INTER_CUBIC    : 3차 보간법 \n",
    "    - INTER_AREA     : 픽셀 영역 리샘플링 \n",
    "    - INTER_LANCZOS4 : 8*8 이웃 픽셀을 사용하는 Lanczos 사용\n",
    "    \n",
    "    \n",
    "- 이미지를 축소하는 경우에는 픽셀에 대한 병합법 \n",
    "- 사용자가 요구하는 절대 크기로 변경하는 방법 \n",
    "- 비율에 맞게 상대적인 크기로 변경하는 방법 \n"
   ]
  },
  {
   "cell_type": "code",
   "execution_count": 34,
   "metadata": {},
   "outputs": [],
   "source": [
    "src = cv2.imread(\"..\\\\..\\\\Image\\\\dog.bmp\", cv2.IMREAD_COLOR)\n",
    "\n",
    "dst = cv2.resize(src, dsize = (640, 480), interpolation=cv2.INTER_LANCZOS4)\n",
    "dst2 = cv2.resize(src, dsize = (0, 0), fx=0.3, fy=0.7, interpolation=cv2.INTER_LANCZOS4)\n",
    "\n",
    "cv2.imshow(\"src\", src)\n",
    "cv2.imshow(\"dst\", dst)\n",
    "cv2.imshow(\"dst2\", dst2)\n",
    "\n",
    "cv2.waitKey()\n",
    "cv2.destroyAllWindows()"
   ]
  },
  {
   "cell_type": "markdown",
   "metadata": {},
   "source": [
    "#### Slice \n",
    "- ROI(Region Of Interest)\n"
   ]
  },
  {
   "cell_type": "code",
   "execution_count": 45,
   "metadata": {},
   "outputs": [
    {
     "name": "stdout",
     "output_type": "stream",
     "text": [
      "(256, 256, 3)\n"
     ]
    }
   ],
   "source": [
    "src = cv2.imread(\"..\\\\..\\\\Image\\\\dog.bmp\", cv2.IMREAD_COLOR)\n",
    "print(src.shape)\n",
    "dst = src[0:256, 0:123].copy()\n",
    "\n",
    "cv2.imshow(\"src\", src)\n",
    "cv2.imshow(\"dst\", dst)\n",
    "cv2.waitKey()\n",
    "cv2.destroyAllWindows()"
   ]
  },
  {
   "cell_type": "code",
   "execution_count": 53,
   "metadata": {},
   "outputs": [
    {
     "name": "stdout",
     "output_type": "stream",
     "text": [
      "(1368, 1920, 3)\n",
      "roi.shape : (500, 500, 3)\n"
     ]
    }
   ],
   "source": [
    "src = cv2.imread(\"..\\\\..\\\\Image\\\\chess.webp\", cv2.IMREAD_COLOR)\n",
    "print(src.shape)\n",
    "\n",
    "dst = src.copy()\n",
    "roi = src[100:600, 200:700, :]\n",
    "print(f\"roi.shape : {roi.shape}\")\n",
    "dst[0:500, 0:500] = roi\n",
    "cv2.imshow(\"src\", src)\n",
    "cv2.imshow(\"dst\", dst)\n",
    "cv2.waitKey()\n",
    "cv2.destroyAllWindows()"
   ]
  }
 ],
 "metadata": {
  "interpreter": {
   "hash": "b3ba2566441a7c06988d0923437866b63cedc61552a5af99d1f4fb67d367b25f"
  },
  "kernelspec": {
   "display_name": "Python 3.9.7 ('base')",
   "language": "python",
   "name": "python3"
  },
  "language_info": {
   "codemirror_mode": {
    "name": "ipython",
    "version": 3
   },
   "file_extension": ".py",
   "mimetype": "text/x-python",
   "name": "python",
   "nbconvert_exporter": "python",
   "pygments_lexer": "ipython3",
   "version": "3.8.10"
  },
  "orig_nbformat": 4
 },
 "nbformat": 4,
 "nbformat_minor": 2
}
