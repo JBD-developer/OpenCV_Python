{
 "cells": [
  {
   "cell_type": "markdown",
   "metadata": {},
   "source": [
    "#### OpenCV "
   ]
  },
  {
   "cell_type": "code",
   "execution_count": 1,
   "metadata": {},
   "outputs": [],
   "source": [
    "import numpy as np \n",
    "import cv2"
   ]
  },
  {
   "cell_type": "markdown",
   "metadata": {},
   "source": [
    "#### Mat class\n",
    "- image.imread() \n",
    "- Convert to a mat object and return.\n",
    "    - cv2.IMREAD_COLOR(1) :\n",
    "    - cv2.IMREAD_GRAYSCALE(0) : \n",
    "    - cv2.IMREAD_UNCHAGED(-1) : "
   ]
  },
  {
   "cell_type": "code",
   "execution_count": 40,
   "metadata": {},
   "outputs": [],
   "source": [
    "def func1():\n",
    "    img1 = cv2.imread(\"..\\\\..\\\\Image\\\\cat.bmp\", flags= cv2.IMREAD_REDUCED_COLOR_2)\n",
    "    \n",
    "    if img1 is None:\n",
    "        print(\"Image load failed\")\n",
    "        return \n",
    "    \n",
    "    print(f\"type :{type(img1)}\")\n",
    "    print(f\"shape :{img1.shape}\")\n",
    "    \n",
    "    if len(img1.shape)== 2:\n",
    "        print(\"img1 is a grayscale image\")\n",
    "    elif len(img1.shape) == 3:\n",
    "        print(\"img1 is a truecolor image\")\n",
    "    \n",
    "    cv2.imshow(\"Img1\", img1)\n",
    "    cv2.waitKey()\n",
    "    cv2.destroyWindow()   "
   ]
  },
  {
   "cell_type": "code",
   "execution_count": 49,
   "metadata": {},
   "outputs": [],
   "source": [
    "def func2():\n",
    "    img1 = np.empty((480, 640), np.uint8)\n",
    "    img2 = np.zeros((480, 640), np.uint8)\n",
    "    img3 = np.ones((480, 640), np.int32)\n",
    "    img4 = np.full((480, 640), 0, np.float32)\n",
    "\n",
    "    mat1 = np.array([[11, 12, 13, 14], \n",
    "                     [21, 22, 23, 24],\n",
    "                     [31, 32, 33, 34]]).astype(np.uint)\n",
    "    print(mat1)\n",
    "    #print(\"=\"*40)\n",
    "    mat1[0, 1] = 100 \n",
    "    #print(\"=\"*40)\n",
    "    mat1[2, :] = 200 \n",
    "    \n",
    "    print(mat1)"
   ]
  },
  {
   "cell_type": "code",
   "execution_count": 60,
   "metadata": {},
   "outputs": [],
   "source": [
    "\n",
    "def func3():\n",
    "    img1 = cv2.imread('..\\\\..\\\\Image\\\\cat.bmp')\n",
    "\n",
    "    img2 = img1\n",
    "    img3 = img1.copy()\n",
    "\n",
    "    img1[:, :] = (0, 255, 255)  # yellow\n",
    "\n",
    "    print(f\"img1 shape {img1.shape}\")\n",
    "    print(img1)\n",
    "    \n",
    "    cv2.imshow('img1', img1)\n",
    "    cv2.imshow('img2', img2)\n",
    "    cv2.imshow('img3', img3)\n",
    "    cv2.waitKey()\n",
    "    cv2.destroyAllWindows()"
   ]
  },
  {
   "cell_type": "code",
   "execution_count": 72,
   "metadata": {},
   "outputs": [],
   "source": [
    "\n",
    "def func4():\n",
    "    img1 = cv2.imread('..\\\\..\\\\Image\\\\lenna.bmp', cv2.IMREAD_GRAYSCALE)\n",
    "\n",
    "    img2 = img1[200:400, 200:400]\n",
    "    img3 = img1[200:400, 200:400].copy()\n",
    "\n",
    "    img2 += 10\n",
    "\n",
    "    cv2.imshow('img1', img1)\n",
    "    cv2.imshow('img2', img2)\n",
    "    cv2.imshow('img3', img3)\n",
    "    cv2.waitKey()\n",
    "    cv2.destroyAllWindows()"
   ]
  },
  {
   "cell_type": "code",
   "execution_count": 79,
   "metadata": {},
   "outputs": [],
   "source": [
    "def func5():\n",
    "    mat1 = np.array(np.arange(12)).reshape(3, 4)\n",
    "\n",
    "    print('mat1:')\n",
    "    print(mat1)\n",
    "\n",
    "    h, w = mat1.shape[:2]\n",
    "\n",
    "    mat2 = np.zeros(mat1.shape, type(mat1))\n",
    "\n",
    "    for j in range(h):\n",
    "        for i in range(w):\n",
    "            mat2[j, i] = mat1[j, i] + 10\n",
    "\n",
    "    print('mat2:')\n",
    "    print(mat2)"
   ]
  },
  {
   "cell_type": "code",
   "execution_count": 18,
   "metadata": {},
   "outputs": [],
   "source": [
    "def func6():\n",
    "    mat1 = np.ones((3, 4), np.int32)    # 1's matrix\n",
    "    mat2 = np.arange(12).reshape(3, 4)\n",
    "    mat3 = mat1 + mat2\n",
    "    mat4 = mat2 * 2\n",
    "\n",
    "    print(\"mat1:\", mat1, sep='\\n')\n",
    "    print(\"mat2:\", mat2, sep='\\n')\n",
    "    print(\"mat3:\", mat3, sep='\\n')\n",
    "    print(\"mat4:\", mat4, sep='\\n')"
   ]
  },
  {
   "cell_type": "code",
   "execution_count": 81,
   "metadata": {},
   "outputs": [
    {
     "name": "stdout",
     "output_type": "stream",
     "text": [
      "mat1:\n",
      "[[1 1 1 1]\n",
      " [1 1 1 1]\n",
      " [1 1 1 1]]\n",
      "mat2:\n",
      "[[ 0  1  2  3]\n",
      " [ 4  5  6  7]\n",
      " [ 8  9 10 11]]\n",
      "mat3:\n",
      "[[ 1  2  3  4]\n",
      " [ 5  6  7  8]\n",
      " [ 9 10 11 12]]\n",
      "mat4:\n",
      "[[ 0  2  4  6]\n",
      " [ 8 10 12 14]\n",
      " [16 18 20 22]]\n"
     ]
    }
   ],
   "source": [
    "if __name__ == '__main__':\n",
    "    # func1()\n",
    "    # func2()\n",
    "    # func3()\n",
    "    # func4()\n",
    "    # func5()\n",
    "    func6()\n"
   ]
  }
 ],
 "metadata": {
  "interpreter": {
   "hash": "b3ba2566441a7c06988d0923437866b63cedc61552a5af99d1f4fb67d367b25f"
  },
  "kernelspec": {
   "display_name": "Python 3.9.7 ('base')",
   "language": "python",
   "name": "python3"
  },
  "language_info": {
   "codemirror_mode": {
    "name": "ipython",
    "version": 3
   },
   "file_extension": ".py",
   "mimetype": "text/x-python",
   "name": "python",
   "nbconvert_exporter": "python",
   "pygments_lexer": "ipython3",
   "version": "3.8.8"
  },
  "orig_nbformat": 4
 },
 "nbformat": 4,
 "nbformat_minor": 2
}
